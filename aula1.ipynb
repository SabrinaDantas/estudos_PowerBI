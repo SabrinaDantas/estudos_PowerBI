{
  "nbformat": 4,
  "nbformat_minor": 0,
  "metadata": {
    "colab": {
      "provenance": [],
      "authorship_tag": "ABX9TyNssKYbErS9Ae05XqIE4Pwd",
      "include_colab_link": true
    },
    "kernelspec": {
      "name": "python3",
      "display_name": "Python 3"
    },
    "language_info": {
      "name": "python"
    }
  },
  "cells": [
    {
      "cell_type": "markdown",
      "metadata": {
        "id": "view-in-github",
        "colab_type": "text"
      },
      "source": [
        "<a href=\"https://colab.research.google.com/github/SabrinaDantas/estudos_PowerBI/blob/main/aula1.ipynb\" target=\"_parent\"><img src=\"https://colab.research.google.com/assets/colab-badge.svg\" alt=\"Open In Colab\"/></a>"
      ]
    },
    {
      "cell_type": "markdown",
      "source": [
        "# Parte 4 - Utilização da biblioteca doctest"
      ],
      "metadata": {
        "id": "N3_m6sZUPVBu"
      }
    },
    {
      "cell_type": "code",
      "execution_count": null,
      "metadata": {
        "id": "NMTslikWRhMT",
        "colab": {
          "base_uri": "https://localhost:8080/"
        },
        "outputId": "c77e75e5-ba2d-4a9c-b41d-aafc4982a6e8"
      },
      "outputs": [
        {
          "output_type": "stream",
          "name": "stdout",
          "text": [
            "1\n",
            "3\n",
            "X = 4\n"
          ]
        }
      ],
      "source": [
        "a = int(input())\n",
        "b = int(input())\n",
        "\n",
        "x = a + b\n",
        "print(f\"X = {x}\")"
      ]
    },
    {
      "cell_type": "code",
      "source": [
        "print(\"X =\", int(input()) + int(input()))"
      ],
      "metadata": {
        "id": "BtAFBXjtTG0S",
        "colab": {
          "base_uri": "https://localhost:8080/"
        },
        "outputId": "c48b2b5c-7f87-429f-9aef-2441bb2e84a5"
      },
      "execution_count": null,
      "outputs": [
        {
          "output_type": "stream",
          "name": "stdout",
          "text": [
            "1\n",
            "3\n",
            "X = 4\n"
          ]
        }
      ]
    },
    {
      "cell_type": "code",
      "source": [
        "def soma(a: int, b:int) -> int:\n",
        "  \"\"\"\n",
        "  Soma dois inteiros\n",
        "\n",
        "  Exemplos:\n",
        "\n",
        "  >>> soma(5, 3)\n",
        "  8\n",
        "  \"\"\"\n",
        "  return a + b\n",
        "\n",
        "a = int(input())\n",
        "b = int(input())\n",
        "\n",
        "x = soma(a, b)\n",
        "print(f\"X = {x}\")"
      ],
      "metadata": {
        "colab": {
          "base_uri": "https://localhost:8080/"
        },
        "id": "rFmoaLiDT5Iv",
        "outputId": "39bfd056-2671-4095-86c9-8f966e992601"
      },
      "execution_count": null,
      "outputs": [
        {
          "output_type": "stream",
          "name": "stdout",
          "text": [
            "1\n",
            "3\n",
            "X = 4\n"
          ]
        }
      ]
    },
    {
      "cell_type": "code",
      "source": [
        "soma(8,10)"
      ],
      "metadata": {
        "id": "bMrHF9nTVws4",
        "colab": {
          "base_uri": "https://localhost:8080/"
        },
        "outputId": "c8f6c3ae-665e-4184-e51a-ed0bcee7c71a"
      },
      "execution_count": null,
      "outputs": [
        {
          "output_type": "execute_result",
          "data": {
            "text/plain": [
              "18"
            ]
          },
          "metadata": {},
          "execution_count": 4
        }
      ]
    },
    {
      "cell_type": "code",
      "source": [
        "import doctest\n",
        "\n",
        "doctest.testmod()\n",
        "\n",
        "doctest.testmod(verbose=True)"
      ],
      "metadata": {
        "id": "Hv_LJjoQWG_c",
        "colab": {
          "base_uri": "https://localhost:8080/"
        },
        "outputId": "ce5ffa3a-5cef-406e-e994-53eadb91e06a"
      },
      "execution_count": null,
      "outputs": [
        {
          "output_type": "stream",
          "name": "stdout",
          "text": [
            "Trying:\n",
            "    soma(5, 3)\n",
            "Expecting:\n",
            "    8\n",
            "ok\n",
            "1 items had no tests:\n",
            "    __main__\n",
            "1 items passed all tests:\n",
            "   1 tests in __main__.soma\n",
            "1 tests in 2 items.\n",
            "1 passed and 0 failed.\n",
            "Test passed.\n"
          ]
        },
        {
          "output_type": "execute_result",
          "data": {
            "text/plain": [
              "TestResults(failed=0, attempted=1)"
            ]
          },
          "metadata": {},
          "execution_count": 12
        }
      ]
    },
    {
      "cell_type": "markdown",
      "source": [
        "# Parte 5 - Fórmula de Bhaskara com testes\n"
      ],
      "metadata": {
        "id": "FbNyqESjPk1g"
      }
    },
    {
      "cell_type": "code",
      "source": [
        "x = a + b"
      ],
      "metadata": {
        "id": "6Gb0oWCjQE_N"
      },
      "execution_count": null,
      "outputs": []
    }
  ]
}